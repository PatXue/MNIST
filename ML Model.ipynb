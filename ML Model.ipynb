{
 "cells": [
  {
   "cell_type": "code",
   "execution_count": 1,
   "id": "bdb91408",
   "metadata": {},
   "outputs": [],
   "source": [
    "import numpy as np\n",
    "from tensorflow.keras.datasets import mnist\n",
    "import random"
   ]
  },
  {
   "cell_type": "code",
   "execution_count": 2,
   "id": "3d960e67",
   "metadata": {},
   "outputs": [],
   "source": [
    "# Open file to store model parameters in\n",
    "file = open(\".\\stored parameters\", \"w\")"
   ]
  },
  {
   "cell_type": "code",
   "execution_count": 3,
   "id": "013722a2",
   "metadata": {
    "scrolled": false
   },
   "outputs": [],
   "source": [
    "(trainImgs, trainLabels), (testImgs, testLabels) = mnist.load_data()"
   ]
  },
  {
   "cell_type": "code",
   "execution_count": 4,
   "id": "e2a5dde1",
   "metadata": {
    "scrolled": true
   },
   "outputs": [],
   "source": [
    "trainImgs = trainImgs/255\n",
    "testImgs = testImgs/255"
   ]
  },
  {
   "cell_type": "code",
   "execution_count": 5,
   "id": "f396d5da",
   "metadata": {},
   "outputs": [],
   "source": [
    "# Flatten each 28x28 image into one row\n",
    "flatTrainImgs = trainImgs.reshape(60000, 28**2)\n",
    "flatTestImgs = testImgs.reshape(10000, 28**2)"
   ]
  },
  {
   "cell_type": "code",
   "execution_count": 18,
   "id": "45da47ea",
   "metadata": {
    "scrolled": false
   },
   "outputs": [],
   "source": [
    "class Model:\n",
    "    def __init__(self, nodeCounts, activationFuncs):\n",
    "        # Input and output node count\n",
    "        self.inCount = nodeCounts[0]\n",
    "        self.outCount = nodeCounts[-1]\n",
    "\n",
    "        # Number of layers\n",
    "        self.layers = len(nodeCounts)\n",
    "\n",
    "        # The activation function for each layer\n",
    "        self.activationFuncs = activationFuncs\n",
    "        \n",
    "        # Initialize weights and biases\n",
    "        self.params = [np.random.randn(nodeCounts[i]+1, nodeCounts[i+1]) for i in range(len(nodeCounts)-1)]\n",
    "    \n",
    "    # Run the model on a set of inputs\n",
    "    def run(self, inArray):\n",
    "        '''\n",
    "        Returns all node activation values from a single input vector or \n",
    "        a set of input vectors\n",
    "\n",
    "        --------\n",
    "        Parameters\n",
    "        inArray: ndarray\n",
    "            Input row vector(s) to be entered into the model.\\n\n",
    "            Can be a 1d array for one input vector, or\n",
    "            a 2d array for multiple input vectors\n",
    "\n",
    "        --------\n",
    "        Returns\n",
    "        nodeValues: list of ndarrays\n",
    "            Resulting node values for the input vector(s).\\n\n",
    "            Each element corresponds to a layer in the model, with leftmost being the input layer\n",
    "        '''\n",
    "        array1 = inArray\n",
    "\n",
    "        nodeValues = [array1]\n",
    "        for i in range(self.layers- 1):\n",
    "            currentParams = self.params[i]\n",
    "\n",
    "            array2 = np.matmul(array1, currentParams[:-1])\n",
    "            array2 += currentParams[-1]\n",
    "            \n",
    "            array1 = self.activationFunc(array2, self.activationFuncs[i])\n",
    "            \n",
    "            nodeValues.append(array1)\n",
    "\n",
    "        return nodeValues # Return list of node values at each layer\n",
    "    \n",
    "\n",
    "    # Calculate the gradient for a set of inputs using backpropagation\n",
    "    def gradient(self, inArray, labels):\n",
    "        '''\n",
    "        Returns the gradient of the cost function\n",
    "        '''\n",
    "        nodeValues = self.run(inArray)\n",
    "\n",
    "        # Correct output values according to labels\n",
    "        labelArray = np.zeros((inArray.shape[0], self.outCount))\n",
    "        labelArray[np.arange(inArray.shape[0]), labels] = 1\n",
    "\n",
    "        # Derivatives of cost function w.r.t. weights and biases\n",
    "        grad = []\n",
    "        # Derivatives of cost function w.r.t. node values\n",
    "        nodeGrad = [2*(nodeValues[-1] - labelArray)]\n",
    "        \n",
    "        for i in range(-1,-self.layers,-1):\n",
    "            weights = self.params[i][:-1]\n",
    "\n",
    "            activationDerivs = self.activationDeriv(nodeValues[i], self.activationFuncs[i])\n",
    "\n",
    "            nodeDerivs = np.einsum(\"ij,kj->ki\", weights, activationDerivs * nodeGrad[-1])\n",
    "            nodeGrad.append(nodeDerivs)\n",
    "            \n",
    "            # Derivatives of node values w.r.t. weights and biases\n",
    "            x = np.column_stack((nodeValues[i-1], np.ones(nodeValues[i-1].shape[0])))\n",
    "            paramDerivs = np.einsum(\"ij,ik->ijk\", x, activationDerivs)\n",
    "\n",
    "            grad.append(np.einsum(\"ijk,ik->ijk\", paramDerivs, nodeGrad[-2]))\n",
    "        \n",
    "        grad.reverse()\n",
    "        grad = [np.sum(layer, axis=0) for layer in grad] # Total sum of gradients from all inputs\n",
    "\n",
    "        return grad, np.sum((nodeValues[-1] - labelArray)**2)\n",
    "    \n",
    "\n",
    "    # Change the weights and biases based on the gradient and given step size\n",
    "    def adjustParams(self, gradient, learnRate):\n",
    "        for i in range(self.layers-1):\n",
    "            self.params[i] -= gradient[i] * learnRate\n",
    "    \n",
    "    # Adjust model parameters based on samples of training data\n",
    "    def train(self, trainData, labelData, batchSize, epochs, learnRate=0.001):\n",
    "        trainDataSize = trainData.shape[0]\n",
    "        batchGrad = [0] * (self.layers-1)\n",
    "\n",
    "        for epoch in range(epochs):\n",
    "            epochCost = 0\n",
    "\n",
    "            for i in range(0, trainDataSize, batchSize):\n",
    "                batchGrad, cost = self.gradient(trainData[i:i+batchSize], labelData[i:i+batchSize])\n",
    "                \n",
    "                epochCost += cost\n",
    "\n",
    "                # True # of samples taken (differs from batchSize if at end of epoch)\n",
    "                sampleCount = min(trainDataSize - i, batchSize)\n",
    "                # Average the batch gradient\n",
    "                batchGrad = [x/sampleCount for x in batchGrad]\n",
    "\n",
    "                self.adjustParams(batchGrad, learnRate)\n",
    "                \n",
    "                print(\"Epoch {} {:%} complete. Avg cost: {}\".format(\n",
    "                    epoch+1, (i+1)/trainDataSize, epochCost/(i+1)\n",
    "                ), end=\"\\r\")\n",
    "            \n",
    "            print(\"Epoch {} completed. Avg cost: {}\".format(epoch+1, epochCost/trainDataSize))\n",
    "    \n",
    "\n",
    "    # The activation function\n",
    "    def activationFunc(self, rawValues, function):\n",
    "        if function.lower() == \"sigmoid\": return self.sigmoid(rawValues)\n",
    "        elif function.lower() == \"relu\": return self.relu(rawValues)\n",
    "        elif function.lower() == \"leaky relu\": return self.leakyRelu(rawValues)\n",
    "        elif function.lower() == \"identity\": return rawValues\n",
    "\n",
    "        raise ValueError('''Specified activation function is not supported\n",
    "        Supported functions: identity, sigmoid, relu, leaky relu''')\n",
    "    \n",
    "    # Derivative of the activation function\n",
    "    def activationDeriv(self, nodeValues, function):\n",
    "        if function.lower() == \"sigmoid\": return self.sigmoidDeriv(nodeValues)\n",
    "        elif function.lower() == \"relu\": return self.reluDeriv(nodeValues)\n",
    "        elif function.lower() == \"leaky relu\": return self.leakyReluDeriv(nodeValues)\n",
    "        elif function.lower() == \"identity\": return 1\n",
    "\n",
    "        raise ValueError('''Specified activation function is not supported\n",
    "        Supported functions: identity, sigmoid, relu, leaky relu''')\n",
    "\n",
    "\n",
    "    def sigmoid(self, rawValues):\n",
    "        return np.reciprocal(1 + np.exp(-rawValues))\n",
    "    \n",
    "    def sigmoidDeriv(self, nodeValues):\n",
    "        return nodeValues - np.power(nodeValues, 2)\n",
    "\n",
    "    def relu(self, rawValues):\n",
    "        rawValues[rawValues < 0] = 0\n",
    "        return rawValues\n",
    "    \n",
    "    def reluDeriv(self, nodeValues):\n",
    "        nodeValues[nodeValues >= 0] = 1\n",
    "        nodeValues[nodeValues < 0] = 0\n",
    "        return nodeValues\n",
    "\n",
    "    def leakyRelu(self, rawValues):\n",
    "        rawValues[rawValues < 0] *= 0.01\n",
    "        return rawValues\n",
    "    \n",
    "    def leakyReluDeriv(self, nodeValues):\n",
    "        nodeValues[nodeValues >= 0] = 1\n",
    "        nodeValues[nodeValues < 0] = 0.01\n",
    "        return nodeValues\n",
    "\n",
    "\n",
    "    def getParams(self):\n",
    "        return self.params\n",
    "\n",
    "    def setParams(self, newParams):\n",
    "        assert len(newParams) == len(self.params)\n",
    "        for i, k in zip(self.params, newParams):\n",
    "            assert i.shape == k.shape\n",
    "        \n",
    "        self.params = newParams"
   ]
  },
  {
   "cell_type": "code",
   "execution_count": 19,
   "id": "6b270600",
   "metadata": {},
   "outputs": [],
   "source": [
    "model = Model([784, 64, 32, 10], [\"leaky relu\", \"leaky relu\", \"sigmoid\"])"
   ]
  },
  {
   "cell_type": "code",
   "execution_count": null,
   "id": "081ed82f",
   "metadata": {
    "scrolled": true
   },
   "outputs": [],
   "source": [
    "i = random.choice(range(60000))\n",
    "\n",
    "out = model.run(flatTrainImgs[0:5])[-1]\n",
    "\n",
    "# print(\"Predicted\", np.where(np.isclose(out, np.max(out)))[0][0])\n",
    "# print(\"Actual:\", trainLabels[i])\n",
    "out"
   ]
  },
  {
   "cell_type": "code",
   "execution_count": 13,
   "id": "2ad236eb",
   "metadata": {},
   "outputs": [
    {
     "data": {
      "text/plain": [
       "(60000, 784)"
      ]
     },
     "execution_count": 13,
     "metadata": {},
     "output_type": "execute_result"
    }
   ],
   "source": [
    "flatTrainImgs.shape"
   ]
  },
  {
   "cell_type": "code",
   "execution_count": 20,
   "id": "47ac35c1",
   "metadata": {},
   "outputs": [
    {
     "name": "stdout",
     "output_type": "stream",
     "text": [
      "Epoch 1 completed. Avg cost: 5.54528015953234451728868535\n",
      "Epoch 2 22.501667% complete. Avg cost: 5.6242390875476225\r"
     ]
    },
    {
     "ename": "KeyboardInterrupt",
     "evalue": "",
     "output_type": "error",
     "traceback": [
      "\u001b[1;31m---------------------------------------------------------------------------\u001b[0m",
      "\u001b[1;31mKeyboardInterrupt\u001b[0m                         Traceback (most recent call last)",
      "\u001b[1;32mc:\\Users\\XT\\Documents\\MNIST\\ML Model.ipynb Cell 10\u001b[0m in \u001b[0;36m<cell line: 1>\u001b[1;34m()\u001b[0m\n\u001b[1;32m----> <a href='vscode-notebook-cell:/c%3A/Users/XT/Documents/MNIST/ML%20Model.ipynb#X12sZmlsZQ%3D%3D?line=0'>1</a>\u001b[0m model\u001b[39m.\u001b[39;49mtrain(flatTrainImgs, trainLabels, \u001b[39m500\u001b[39;49m, \u001b[39m50\u001b[39;49m, \u001b[39m1e-3\u001b[39;49m)\n",
      "\u001b[1;32mc:\\Users\\XT\\Documents\\MNIST\\ML Model.ipynb Cell 10\u001b[0m in \u001b[0;36mModel.train\u001b[1;34m(self, trainData, labelData, batchSize, epochs, learnRate)\u001b[0m\n\u001b[0;32m     <a href='vscode-notebook-cell:/c%3A/Users/XT/Documents/MNIST/ML%20Model.ipynb#X12sZmlsZQ%3D%3D?line=97'>98</a>\u001b[0m epochCost \u001b[39m=\u001b[39m \u001b[39m0\u001b[39m\n\u001b[0;32m    <a href='vscode-notebook-cell:/c%3A/Users/XT/Documents/MNIST/ML%20Model.ipynb#X12sZmlsZQ%3D%3D?line=99'>100</a>\u001b[0m \u001b[39mfor\u001b[39;00m i \u001b[39min\u001b[39;00m \u001b[39mrange\u001b[39m(\u001b[39m0\u001b[39m, trainDataSize, batchSize):\n\u001b[1;32m--> <a href='vscode-notebook-cell:/c%3A/Users/XT/Documents/MNIST/ML%20Model.ipynb#X12sZmlsZQ%3D%3D?line=100'>101</a>\u001b[0m     batchGrad, cost \u001b[39m=\u001b[39m \u001b[39mself\u001b[39;49m\u001b[39m.\u001b[39;49mgradient(trainData[i:i\u001b[39m+\u001b[39;49mbatchSize], labelData[i:i\u001b[39m+\u001b[39;49mbatchSize])\n\u001b[0;32m    <a href='vscode-notebook-cell:/c%3A/Users/XT/Documents/MNIST/ML%20Model.ipynb#X12sZmlsZQ%3D%3D?line=102'>103</a>\u001b[0m     epochCost \u001b[39m+\u001b[39m\u001b[39m=\u001b[39m cost\n\u001b[0;32m    <a href='vscode-notebook-cell:/c%3A/Users/XT/Documents/MNIST/ML%20Model.ipynb#X12sZmlsZQ%3D%3D?line=104'>105</a>\u001b[0m     \u001b[39m# True # of samples taken (differs from batchSize if at end of epoch)\u001b[39;00m\n",
      "\u001b[1;32mc:\\Users\\XT\\Documents\\MNIST\\ML Model.ipynb Cell 10\u001b[0m in \u001b[0;36mModel.gradient\u001b[1;34m(self, inArray, labels)\u001b[0m\n\u001b[0;32m     <a href='vscode-notebook-cell:/c%3A/Users/XT/Documents/MNIST/ML%20Model.ipynb#X12sZmlsZQ%3D%3D?line=75'>76</a>\u001b[0m     x \u001b[39m=\u001b[39m np\u001b[39m.\u001b[39mcolumn_stack((nodeValues[i\u001b[39m-\u001b[39m\u001b[39m1\u001b[39m], np\u001b[39m.\u001b[39mones(nodeValues[i\u001b[39m-\u001b[39m\u001b[39m1\u001b[39m]\u001b[39m.\u001b[39mshape[\u001b[39m0\u001b[39m])))\n\u001b[0;32m     <a href='vscode-notebook-cell:/c%3A/Users/XT/Documents/MNIST/ML%20Model.ipynb#X12sZmlsZQ%3D%3D?line=76'>77</a>\u001b[0m     paramDerivs \u001b[39m=\u001b[39m np\u001b[39m.\u001b[39meinsum(\u001b[39m\"\u001b[39m\u001b[39mij,ik->ijk\u001b[39m\u001b[39m\"\u001b[39m, x, activationDerivs)\n\u001b[1;32m---> <a href='vscode-notebook-cell:/c%3A/Users/XT/Documents/MNIST/ML%20Model.ipynb#X12sZmlsZQ%3D%3D?line=78'>79</a>\u001b[0m     grad\u001b[39m.\u001b[39mappend(np\u001b[39m.\u001b[39;49meinsum(\u001b[39m\"\u001b[39;49m\u001b[39mijk,ik->ijk\u001b[39;49m\u001b[39m\"\u001b[39;49m, paramDerivs, nodeGrad[\u001b[39m-\u001b[39;49m\u001b[39m2\u001b[39;49m]))\n\u001b[0;32m     <a href='vscode-notebook-cell:/c%3A/Users/XT/Documents/MNIST/ML%20Model.ipynb#X12sZmlsZQ%3D%3D?line=80'>81</a>\u001b[0m grad\u001b[39m.\u001b[39mreverse()\n\u001b[0;32m     <a href='vscode-notebook-cell:/c%3A/Users/XT/Documents/MNIST/ML%20Model.ipynb#X12sZmlsZQ%3D%3D?line=81'>82</a>\u001b[0m grad \u001b[39m=\u001b[39m [np\u001b[39m.\u001b[39msum(layer, axis\u001b[39m=\u001b[39m\u001b[39m0\u001b[39m) \u001b[39mfor\u001b[39;00m layer \u001b[39min\u001b[39;00m grad] \u001b[39m# Total sum of gradients from all inputs\u001b[39;00m\n",
      "File \u001b[1;32m<__array_function__ internals>:5\u001b[0m, in \u001b[0;36meinsum\u001b[1;34m(*args, **kwargs)\u001b[0m\n",
      "File \u001b[1;32mc:\\Users\\XT\\anaconda3\\envs\\tf\\lib\\site-packages\\numpy\\core\\einsumfunc.py:1359\u001b[0m, in \u001b[0;36meinsum\u001b[1;34m(out, optimize, *operands, **kwargs)\u001b[0m\n\u001b[0;32m   1357\u001b[0m     \u001b[39mif\u001b[39;00m specified_out:\n\u001b[0;32m   1358\u001b[0m         kwargs[\u001b[39m'\u001b[39m\u001b[39mout\u001b[39m\u001b[39m'\u001b[39m] \u001b[39m=\u001b[39m out\n\u001b[1;32m-> 1359\u001b[0m     \u001b[39mreturn\u001b[39;00m c_einsum(\u001b[39m*\u001b[39moperands, \u001b[39m*\u001b[39m\u001b[39m*\u001b[39mkwargs)\n\u001b[0;32m   1361\u001b[0m \u001b[39m# Check the kwargs to avoid a more cryptic error later, without having to\u001b[39;00m\n\u001b[0;32m   1362\u001b[0m \u001b[39m# repeat default values here\u001b[39;00m\n\u001b[0;32m   1363\u001b[0m valid_einsum_kwargs \u001b[39m=\u001b[39m [\u001b[39m'\u001b[39m\u001b[39mdtype\u001b[39m\u001b[39m'\u001b[39m, \u001b[39m'\u001b[39m\u001b[39morder\u001b[39m\u001b[39m'\u001b[39m, \u001b[39m'\u001b[39m\u001b[39mcasting\u001b[39m\u001b[39m'\u001b[39m]\n",
      "\u001b[1;31mKeyboardInterrupt\u001b[0m: "
     ]
    }
   ],
   "source": [
    "model.train(flatTrainImgs, trainLabels, 500, 50, 1e-4)"
   ]
  },
  {
   "cell_type": "code",
   "execution_count": 45,
   "id": "77ebf5f5",
   "metadata": {},
   "outputs": [
    {
     "data": {
      "text/plain": [
       "array([[0., 0., 0., ..., 0., 0., 0.],\n",
       "       [0., 0., 0., ..., 0., 0., 0.],\n",
       "       [0., 0., 0., ..., 0., 0., 0.],\n",
       "       [0., 0., 0., ..., 0., 0., 0.],\n",
       "       [0., 0., 0., ..., 0., 0., 0.]])"
      ]
     },
     "execution_count": 45,
     "metadata": {},
     "output_type": "execute_result"
    }
   ],
   "source": [
    "flatTestImgs[random.sample(range(len(testLabels)), 5)]"
   ]
  }
 ],
 "metadata": {
  "kernelspec": {
   "display_name": "Python 3.9.12 ('tf')",
   "language": "python",
   "name": "python3"
  },
  "language_info": {
   "codemirror_mode": {
    "name": "ipython",
    "version": 3
   },
   "file_extension": ".py",
   "mimetype": "text/x-python",
   "name": "python",
   "nbconvert_exporter": "python",
   "pygments_lexer": "ipython3",
   "version": "3.9.12"
  },
  "vscode": {
   "interpreter": {
    "hash": "61dfe290d5af39f02c5e82bb611038368a9534ec982fd1ef0461bb6d171d79e6"
   }
  }
 },
 "nbformat": 4,
 "nbformat_minor": 5
}
