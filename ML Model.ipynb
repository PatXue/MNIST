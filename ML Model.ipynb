{
 "cells": [
  {
   "cell_type": "code",
   "execution_count": 1,
   "id": "bdb91408",
   "metadata": {},
   "outputs": [],
   "source": [
    "import numpy as np\n",
    "import matplotlib\n",
    "import matplotlib.pyplot as plt\n",
    "from tensorflow.keras.datasets import mnist\n",
    "import random"
   ]
  },
  {
   "cell_type": "code",
   "execution_count": 2,
   "id": "3d960e67",
   "metadata": {},
   "outputs": [],
   "source": [
    "# Open file to store model parameters in\n",
    "file = open(\"c:\\\\Users\\\\XT\\\\Documents\\\\MNIST\\\\stored parameters\", \"w\")"
   ]
  },
  {
   "cell_type": "code",
   "execution_count": 2,
   "id": "013722a2",
   "metadata": {
    "scrolled": false
   },
   "outputs": [],
   "source": [
    "(trainImgs, trainLabels), (testImgs, testLabels) = mnist.load_data()"
   ]
  },
  {
   "cell_type": "code",
   "execution_count": 3,
   "id": "e2a5dde1",
   "metadata": {
    "scrolled": true
   },
   "outputs": [],
   "source": [
    "trainImgs = trainImgs/255\n",
    "testImgs = testImgs/255"
   ]
  },
  {
   "cell_type": "code",
   "execution_count": 4,
   "id": "f396d5da",
   "metadata": {},
   "outputs": [],
   "source": [
    "# Flatten each 28x28 image into one row\n",
    "flatTrainImgs = trainImgs.reshape(60000, 28**2)\n",
    "flatTestImgs = testImgs.reshape(10000, 28**2)"
   ]
  },
  {
   "cell_type": "code",
   "execution_count": 28,
   "id": "45da47ea",
   "metadata": {
    "scrolled": false
   },
   "outputs": [],
   "source": [
    "class Model:\n",
    "    def __init__(self, nodeCounts, activationFuncs):\n",
    "        # Input and output node count\n",
    "        self.inCount = nodeCounts[0]\n",
    "        self.outCount = nodeCounts[-1]\n",
    "\n",
    "        # Number of layers\n",
    "        self.layers = len(nodeCounts)\n",
    "\n",
    "        # The activation function for each layer\n",
    "        self.activationFuncs = activationFuncs\n",
    "        \n",
    "        # Initialize weights and biases\n",
    "        self.params = [np.random.randn(nodeCounts[i]+1, nodeCounts[i+1]) for i in range(len(nodeCounts)-1)]\n",
    "    \n",
    "    # Run the model on a set of inputs\n",
    "    def run(self, inArray):\n",
    "        array1 = inArray\n",
    "\n",
    "        nodeValues = [array1]\n",
    "        for i in range(self.layers- 1):\n",
    "            currentParams = self.params[i]\n",
    "\n",
    "            array2 = np.matmul(array1, currentParams[:-1])\n",
    "            array2 += currentParams[-1]\n",
    "            \n",
    "            array1 = self.activationFunc(array2, self.activationFuncs[i])\n",
    "            \n",
    "            nodeValues.append(array1)\n",
    "\n",
    "        return nodeValues # Return list of node values at each layer\n",
    "    \n",
    "\n",
    "    # Calculate the gradient for a set of inputs using backpropagation\n",
    "    def gradient(self, inArray, label):\n",
    "        nodeValues = self.run(inArray)\n",
    "\n",
    "        # Correct output values\n",
    "        labelArray = np.zeros(self.outCount)\n",
    "        labelArray[label] = 1\n",
    "\n",
    "        # Derivatives of cost function w.r.t. weights and biases\n",
    "        grad = []\n",
    "        # Derivatives of cost function w.r.t. node values\n",
    "        nodeGrad = [2*(nodeValues[-1] - labelArray)]\n",
    "        \n",
    "        for i in range(-1,-self.layers,-1):\n",
    "            prevLayer = nodeValues[i]\n",
    "            weights = self.params[i][:-1]\n",
    "\n",
    "            activationDerivs = self.activationDeriv(prevLayer, self.activationFuncs[i])\n",
    "\n",
    "            nodeDerivs = np.sum(weights * activationDerivs[None] * nodeGrad[-1][None], axis=1)\n",
    "            \n",
    "            nodeGrad.append(nodeDerivs)\n",
    "            \n",
    "            # Derivatives of node values w.r.t. weights and biases\n",
    "            paramDerivs = np.concatenate((nodeValues[i-1], np.array(1)[None]))[:,None] @ activationDerivs[None]\n",
    "\n",
    "            grad.append(paramDerivs * nodeGrad[-2][None])\n",
    "        \n",
    "        grad.reverse()\n",
    "        # Return gradient and cost\n",
    "        return grad, np.sum((nodeValues[-1] - labelArray)**2)\n",
    "    \n",
    "\n",
    "    # Change the weights and biases based on the gradient and given step size\n",
    "    def adjustParams(self, gradient, learnRate=1):\n",
    "        for i in range(self.layers-1):\n",
    "            self.params[i] -= gradient[i] * learnRate\n",
    "    \n",
    "    # Adjust model parameters based on samples of training data\n",
    "    def train(self, trainData, labelData, batchSize, epochs, learnRate=0.001):\n",
    "        trainDataSize = trainData.shape[0]\n",
    "        batchGrad = [0] * (self.layers-1)\n",
    "\n",
    "        for epoch in range(epochs):\n",
    "            epochCost = 0\n",
    "\n",
    "            for i in range(trainDataSize):\n",
    "                gradient, cost = self.gradient(trainData[i], labelData[i])\n",
    "                \n",
    "                # Add this individual sample's gradient to the total gradient\n",
    "                batchGrad = list(map(lambda x,y: x+y, gradient, batchGrad))\n",
    "                \n",
    "                epochCost += cost\n",
    "\n",
    "                # Update parameters if at end of batch or training dataset\n",
    "                if (i+1) % batchSize == 0 or i+1 == trainDataSize:\n",
    "                    self.adjustParams(batchGrad, learnRate)\n",
    "                    \n",
    "                    batchGrad = [0] * (self.layers-1)\n",
    "                \n",
    "                print(\"Epoch {} {:%} complete. Avg cost: {}\".format(\n",
    "                    epoch+1, (i+1)/trainDataSize, epochCost/(i+1)\n",
    "                ), end=\"\\r\")\n",
    "            \n",
    "            print(\"Epoch {} completed. Avg cost: {}\".format(epoch+1, epochCost/trainDataSize))\n",
    "    \n",
    "\n",
    "    # The activation function\n",
    "    def activationFunc(self, rawValues, function):\n",
    "        if function.lower() == \"sigmoid\": return self.sigmoid(rawValues)\n",
    "        elif function.lower() == \"relu\": return self.relu(rawValues)\n",
    "        elif function.lower() == \"leaky relu\": return self.leakyRelu(rawValues)\n",
    "        elif function.lower() == \"identity\": return rawValues\n",
    "\n",
    "        raise ValueError('''Specified activation function is not supported\n",
    "        Supported functions: identity, sigmoid, relu, leaky relu''')\n",
    "    \n",
    "    # Derivative of the activation function\n",
    "    def activationDeriv(self, nodeValues, function):\n",
    "        if function.lower() == \"sigmoid\": return self.sigmoidDeriv(nodeValues)\n",
    "        elif function.lower() == \"relu\": return self.reluDeriv(nodeValues)\n",
    "        elif function.lower() == \"leaky relu\": return self.leakyReluDeriv(nodeValues)\n",
    "        elif function.lower() == \"identity\": return 1\n",
    "\n",
    "        raise ValueError('''Specified activation function is not supported\n",
    "        Supported functions: identity, sigmoid, relu, leaky relu''')\n",
    "\n",
    "\n",
    "    def sigmoid(self, rawValues):\n",
    "        return np.reciprocal(1 + np.exp(-rawValues))\n",
    "    \n",
    "    def sigmoidDeriv(self, nodeValues):\n",
    "        return nodeValues - np.power(nodeValues, 2)\n",
    "\n",
    "    def relu(self, rawValues):\n",
    "        rawValues[rawValues < 0] = 0\n",
    "        return rawValues\n",
    "    \n",
    "    def reluDeriv(self, nodeValues):\n",
    "        nodeValues[nodeValues > 0] = 1\n",
    "        return nodeValues\n",
    "\n",
    "    def leakyRelu(self, rawValues):\n",
    "        rawValues[rawValues < 0] *= 0.01\n",
    "        return rawValues\n",
    "    \n",
    "    def leakyReluDeriv(self, nodeValues):\n",
    "        nodeValues[nodeValues >= 0] = 1\n",
    "        nodeValues[nodeValues < 0] = 0.01\n",
    "        return nodeValues\n",
    "\n",
    "\n",
    "    def getParams(self):\n",
    "        return self.params\n",
    "\n",
    "    def setParams(self, newParams):\n",
    "        assert len(newParams) == len(self.params)\n",
    "        for i, k in zip(self.params, newParams):\n",
    "            assert i.shape == k.shape\n",
    "        \n",
    "        self.params = newParams"
   ]
  },
  {
   "cell_type": "code",
   "execution_count": 29,
   "id": "6b270600",
   "metadata": {},
   "outputs": [],
   "source": [
    "model = Model([784, 64, 32, 10], [\"leaky relu\", \"leaky relu\", \"sigmoid\"])"
   ]
  },
  {
   "cell_type": "code",
   "execution_count": 22,
   "id": "081ed82f",
   "metadata": {
    "scrolled": true
   },
   "outputs": [
    {
     "name": "stdout",
     "output_type": "stream",
     "text": [
      "Predicted 3\n",
      "Actual: 2\n"
     ]
    },
    {
     "data": {
      "text/plain": [
       "array([5.24704821e-02, 4.29173610e-01, 2.57460858e-01, 9.84686727e-01,\n",
       "       1.85983027e-01, 7.79884237e-01, 2.54532969e-01, 5.75545345e-04,\n",
       "       1.14067036e-01, 6.08445881e-01])"
      ]
     },
     "execution_count": 22,
     "metadata": {},
     "output_type": "execute_result"
    }
   ],
   "source": [
    "i = random.choice(range(60000))\n",
    "\n",
    "out = model.run(flatTrainImgs[i])[-1]\n",
    "\n",
    "print(\"Predicted\", np.where(np.isclose(out, np.max(out)))[0][0])\n",
    "print(\"Actual:\", trainLabels[i])\n",
    "out"
   ]
  },
  {
   "cell_type": "code",
   "execution_count": 13,
   "id": "2ad236eb",
   "metadata": {},
   "outputs": [
    {
     "data": {
      "text/plain": [
       "(60000, 784)"
      ]
     },
     "execution_count": 13,
     "metadata": {},
     "output_type": "execute_result"
    }
   ],
   "source": [
    "flatTrainImgs.shape"
   ]
  },
  {
   "cell_type": "code",
   "execution_count": 30,
   "id": "47ac35c1",
   "metadata": {},
   "outputs": [
    {
     "name": "stdout",
     "output_type": "stream",
     "text": [
      "Epoch 1 completed. Avg cost: 0.774747590705593475907055934\n",
      "Epoch 2 completed. Avg cost: 0.582804969711918349697119183\n",
      "Epoch 3 completed. Avg cost: 0.492151684032442616840324426\n",
      "Epoch 4 completed. Avg cost: 0.443044223738882142237388821\n",
      "Epoch 5 completed. Avg cost: 0.419182962356899229623568992\n",
      "Epoch 6 completed. Avg cost: 0.406718801744764488017447644\n",
      "Epoch 7 completed. Avg cost: 0.399692571394547425713945474\n",
      "Epoch 8 completed. Avg cost: 0.393705378482156053784821566\n",
      "Epoch 9 completed. Avg cost: 0.391607731860966577318609665\n",
      "Epoch 10 completed. Avg cost: 0.3949777583357248575833572485\n",
      "Epoch 11 completed. Avg cost: 0.393849778423151297784231512\n",
      "Epoch 12 completed. Avg cost: 0.393007792474662277924746622\n",
      "Epoch 13 completed. Avg cost: 0.3900999766074320697660743206\n",
      "Epoch 14 32.026667% complete. Avg cost: 0.39279879771507256\r"
     ]
    },
    {
     "ename": "KeyboardInterrupt",
     "evalue": "",
     "output_type": "error",
     "traceback": [
      "\u001b[1;31m---------------------------------------------------------------------------\u001b[0m",
      "\u001b[1;31mKeyboardInterrupt\u001b[0m                         Traceback (most recent call last)",
      "\u001b[1;32mc:\\Users\\XT\\Documents\\MNIST\\ML Model.ipynb Cell 10\u001b[0m in \u001b[0;36m<cell line: 1>\u001b[1;34m()\u001b[0m\n\u001b[1;32m----> <a href='vscode-notebook-cell:/c%3A/Users/XT/Documents/MNIST/ML%20Model.ipynb#X11sZmlsZQ%3D%3D?line=0'>1</a>\u001b[0m model\u001b[39m.\u001b[39;49mtrain(flatTrainImgs, trainLabels, \u001b[39m500\u001b[39;49m, \u001b[39m50\u001b[39;49m, \u001b[39m1e-3\u001b[39;49m)\n",
      "\u001b[1;32mc:\\Users\\XT\\Documents\\MNIST\\ML Model.ipynb Cell 10\u001b[0m in \u001b[0;36mModel.train\u001b[1;34m(self, trainData, labelData, batchSize, epochs, learnRate)\u001b[0m\n\u001b[0;32m     <a href='vscode-notebook-cell:/c%3A/Users/XT/Documents/MNIST/ML%20Model.ipynb#X11sZmlsZQ%3D%3D?line=77'>78</a>\u001b[0m epochCost \u001b[39m=\u001b[39m \u001b[39m0\u001b[39m\n\u001b[0;32m     <a href='vscode-notebook-cell:/c%3A/Users/XT/Documents/MNIST/ML%20Model.ipynb#X11sZmlsZQ%3D%3D?line=79'>80</a>\u001b[0m \u001b[39mfor\u001b[39;00m i \u001b[39min\u001b[39;00m \u001b[39mrange\u001b[39m(trainDataSize):\n\u001b[1;32m---> <a href='vscode-notebook-cell:/c%3A/Users/XT/Documents/MNIST/ML%20Model.ipynb#X11sZmlsZQ%3D%3D?line=80'>81</a>\u001b[0m     gradient, cost \u001b[39m=\u001b[39m \u001b[39mself\u001b[39;49m\u001b[39m.\u001b[39;49mgradient(trainData[i], labelData[i])\n\u001b[0;32m     <a href='vscode-notebook-cell:/c%3A/Users/XT/Documents/MNIST/ML%20Model.ipynb#X11sZmlsZQ%3D%3D?line=82'>83</a>\u001b[0m     \u001b[39m# Add this individual sample's gradient to the total gradient\u001b[39;00m\n\u001b[0;32m     <a href='vscode-notebook-cell:/c%3A/Users/XT/Documents/MNIST/ML%20Model.ipynb#X11sZmlsZQ%3D%3D?line=83'>84</a>\u001b[0m     batchGrad \u001b[39m=\u001b[39m \u001b[39mlist\u001b[39m(\u001b[39mmap\u001b[39m(\u001b[39mlambda\u001b[39;00m x,y: x\u001b[39m+\u001b[39my, gradient, batchGrad))\n",
      "\u001b[1;32mc:\\Users\\XT\\Documents\\MNIST\\ML Model.ipynb Cell 10\u001b[0m in \u001b[0;36mModel.gradient\u001b[1;34m(self, inArray, label)\u001b[0m\n\u001b[0;32m     <a href='vscode-notebook-cell:/c%3A/Users/XT/Documents/MNIST/ML%20Model.ipynb#X11sZmlsZQ%3D%3D?line=48'>49</a>\u001b[0m weights \u001b[39m=\u001b[39m \u001b[39mself\u001b[39m\u001b[39m.\u001b[39mparams[i][:\u001b[39m-\u001b[39m\u001b[39m1\u001b[39m]\n\u001b[0;32m     <a href='vscode-notebook-cell:/c%3A/Users/XT/Documents/MNIST/ML%20Model.ipynb#X11sZmlsZQ%3D%3D?line=50'>51</a>\u001b[0m activationDerivs \u001b[39m=\u001b[39m \u001b[39mself\u001b[39m\u001b[39m.\u001b[39mactivationDeriv(prevLayer, \u001b[39mself\u001b[39m\u001b[39m.\u001b[39mactivationFuncs[i])\n\u001b[1;32m---> <a href='vscode-notebook-cell:/c%3A/Users/XT/Documents/MNIST/ML%20Model.ipynb#X11sZmlsZQ%3D%3D?line=52'>53</a>\u001b[0m nodeDerivs \u001b[39m=\u001b[39m np\u001b[39m.\u001b[39msum(weights \u001b[39m*\u001b[39;49m activationDerivs[\u001b[39mNone\u001b[39;49;00m] \u001b[39m*\u001b[39;49m nodeGrad[\u001b[39m-\u001b[39;49m\u001b[39m1\u001b[39;49m][\u001b[39mNone\u001b[39;49;00m], axis\u001b[39m=\u001b[39m\u001b[39m1\u001b[39m)\n\u001b[0;32m     <a href='vscode-notebook-cell:/c%3A/Users/XT/Documents/MNIST/ML%20Model.ipynb#X11sZmlsZQ%3D%3D?line=54'>55</a>\u001b[0m nodeGrad\u001b[39m.\u001b[39mappend(nodeDerivs)\n\u001b[0;32m     <a href='vscode-notebook-cell:/c%3A/Users/XT/Documents/MNIST/ML%20Model.ipynb#X11sZmlsZQ%3D%3D?line=56'>57</a>\u001b[0m \u001b[39m# Derivatives of node values w.r.t. weights and biases\u001b[39;00m\n",
      "\u001b[1;31mKeyboardInterrupt\u001b[0m: "
     ]
    }
   ],
   "source": [
    "model.train(flatTrainImgs, trainLabels, 500, 50, 1e-3)"
   ]
  },
  {
   "cell_type": "code",
   "execution_count": 45,
   "id": "77ebf5f5",
   "metadata": {},
   "outputs": [
    {
     "data": {
      "text/plain": [
       "array([[0., 0., 0., ..., 0., 0., 0.],\n",
       "       [0., 0., 0., ..., 0., 0., 0.],\n",
       "       [0., 0., 0., ..., 0., 0., 0.],\n",
       "       [0., 0., 0., ..., 0., 0., 0.],\n",
       "       [0., 0., 0., ..., 0., 0., 0.]])"
      ]
     },
     "execution_count": 45,
     "metadata": {},
     "output_type": "execute_result"
    }
   ],
   "source": [
    "flatTestImgs[random.sample(range(len(testLabels)), 5)]"
   ]
  }
 ],
 "metadata": {
  "kernelspec": {
   "display_name": "Python 3.9.12 ('tf')",
   "language": "python",
   "name": "python3"
  },
  "language_info": {
   "codemirror_mode": {
    "name": "ipython",
    "version": 3
   },
   "file_extension": ".py",
   "mimetype": "text/x-python",
   "name": "python",
   "nbconvert_exporter": "python",
   "pygments_lexer": "ipython3",
   "version": "3.9.12"
  },
  "vscode": {
   "interpreter": {
    "hash": "61dfe290d5af39f02c5e82bb611038368a9534ec982fd1ef0461bb6d171d79e6"
   }
  }
 },
 "nbformat": 4,
 "nbformat_minor": 5
}
