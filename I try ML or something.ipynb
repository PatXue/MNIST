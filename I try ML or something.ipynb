{
 "cells": [
  {
   "cell_type": "code",
   "execution_count": 1,
   "id": "bdb91408",
   "metadata": {},
   "outputs": [],
   "source": [
    "import numpy as np\n",
    "import matplotlib\n",
    "import matplotlib.pyplot as plt\n",
    "from tensorflow.keras.datasets import mnist\n",
    "import random"
   ]
  },
  {
   "cell_type": "code",
   "execution_count": 2,
   "id": "3d960e67",
   "metadata": {},
   "outputs": [],
   "source": [
    "# Open file to store model parameters in\n",
    "file = open(\"c:\\\\Users\\\\XT\\\\Documents\\\\MNIST\\\\stored parameters\", \"w\")"
   ]
  },
  {
   "cell_type": "code",
   "execution_count": 2,
   "id": "013722a2",
   "metadata": {
    "scrolled": false
   },
   "outputs": [],
   "source": [
    "(trainImgs, trainLabels), (testImgs, testLabels) = mnist.load_data()"
   ]
  },
  {
   "cell_type": "code",
   "execution_count": 3,
   "id": "e2a5dde1",
   "metadata": {
    "scrolled": true
   },
   "outputs": [],
   "source": [
    "trainImgs = trainImgs/255\n",
    "testImgs = testImgs/255"
   ]
  },
  {
   "cell_type": "code",
   "execution_count": 4,
   "id": "f396d5da",
   "metadata": {},
   "outputs": [],
   "source": [
    "# Flatten each 28x28 image into one row\n",
    "flatTrainImgs = trainImgs.reshape(60000, 28**2)\n",
    "flatTestImgs = testImgs.reshape(10000, 28**2)"
   ]
  },
  {
   "cell_type": "code",
   "execution_count": 32,
   "id": "45da47ea",
   "metadata": {
    "scrolled": false
   },
   "outputs": [],
   "source": [
    "class Model:\n",
    "    def __init__(self, nodeCounts, activationFuncs):\n",
    "        # Input and output node count\n",
    "        self.inCount = nodeCounts[0]\n",
    "        self.outCount = nodeCounts[-1]\n",
    "\n",
    "        # Number of layers\n",
    "        self.layers = len(nodeCounts)\n",
    "\n",
    "        # The activation function for each layer\n",
    "        self.activationFuncs = activationFuncs\n",
    "        \n",
    "        # Initialize weights and biases\n",
    "        self.params = [np.random.randn(nodeCounts[i]+1, nodeCounts[i+1]) for i in range(len(nodeCounts)-1)]\n",
    "    \n",
    "    # Run the model on a set of inputs\n",
    "    def run(self, inArray):\n",
    "        array1 = inArray\n",
    "\n",
    "        nodeValues = [array1]\n",
    "        for i in range(self.layers- 1):\n",
    "            currentParams = self.params[i]\n",
    "\n",
    "            array2 = np.matmul(array1, currentParams[:-1])\n",
    "            array2 += currentParams[-1]\n",
    "            \n",
    "            array1 = self.activationFunc(array2, self.activationFuncs[i])\n",
    "            \n",
    "            nodeValues.append(array1)\n",
    "\n",
    "        return nodeValues # Return list of node values at each layer\n",
    "    \n",
    "\n",
    "    # Calculate the gradient for a set of inputs using backpropagation\n",
    "    def gradient(self, inArray, label):\n",
    "        nodeValues = self.run(inArray)\n",
    "\n",
    "        # Correct output values\n",
    "        labelArray = np.zeros(self.outCount)\n",
    "        labelArray[label] = 1\n",
    "\n",
    "        # Derivatives of cost function w.r.t. weights and biases\n",
    "        grad = []\n",
    "        # Derivatives of cost function w.r.t. node values\n",
    "        nodeGrad = [2*(nodeValues[-1] - labelArray)]\n",
    "        \n",
    "        for i in range(-1,-len(nodeValues),-1):\n",
    "            prevLayer = nodeValues[i]\n",
    "            weights = self.params[i][:-1]\n",
    "\n",
    "            activationDerivs = self.activationDeriv(prevLayer, self.activationFuncs[i])\n",
    "\n",
    "            nodeDerivs = np.sum(weights * activationDerivs[None] * nodeGrad[-1][None], axis=1)\n",
    "            \n",
    "            nodeGrad.append(nodeDerivs)\n",
    "            \n",
    "            # Derivatives of node values w.r.t. weights and biases\n",
    "            paramDerivs = np.concatenate((nodeValues[i-1], np.array(1)[None]))[:,None] @ activationDerivs[None]\n",
    "\n",
    "            grad.append(paramDerivs * nodeGrad[-2][None])\n",
    "        \n",
    "        grad.reverse()\n",
    "        # Return gradient and cost\n",
    "        return grad, np.sum((nodeValues[-1] - labelArray)**2)\n",
    "    \n",
    "\n",
    "    # Change the weights and biases based on the gradient and given step size\n",
    "    def adjustParams(self, gradient, stepSize=1):\n",
    "        for i in range(self.layers-1):\n",
    "            self.params[i] -= gradient[i] * stepSize\n",
    "    \n",
    "    # Sample from training data and adjust weights and biases\n",
    "    def train(self, inData, labelData, sampSize, epochs, stepSize=0.001, printCost=True):\n",
    "        meanGrad = [0] * self.layers\n",
    "        meanCost = 0\n",
    "        \n",
    "        for epoch in range(epochs):\n",
    "            for i in random.sample(range(len(labelData)), sampSize):\n",
    "                gradient, cost = self.gradient(inData[i], labelData[i])\n",
    "                \n",
    "                # Adjust parameters\n",
    "                self.adjustParams(gradient, stepSize)\n",
    "                \n",
    "                # Add each image's contribution to the cost\n",
    "                meanCost += cost\n",
    "            \n",
    "            meanCost /= sampSize\n",
    "            \n",
    "            if printCost:\n",
    "                print(\"Epoch {} completed. Avg cost: {}\".format(epoch+1, meanCost))\n",
    "    \n",
    "\n",
    "    # The activation function\n",
    "    def activationFunc(self, rawValues, function):\n",
    "        if function.lower() == \"sigmoid\": return self.sigmoid(rawValues)\n",
    "        elif function.lower() == \"relu\": return self.reluDeriv(rawValues)\n",
    "        elif function.lower() == \"leaky_relu\": return self.leakyReluDeriv(rawValues)\n",
    "        elif function.lower() == \"identity\": return rawValues\n",
    "\n",
    "        raise ValueError('''Specified activation function is not supported\n",
    "        Supported functions: identity, sigmoid, relu, leaky relu''')\n",
    "    \n",
    "    # Derivative of the activation function\n",
    "    def activationDeriv(self, nodeValues, function):\n",
    "        if function.lower() == \"sigmoid\": return self.sigmoidDeriv(nodeValues)\n",
    "        elif function.lower() == \"relu\": return self.reluDeriv(nodeValues)\n",
    "        elif function.lower() == \"leaky_relu\": return self.leakyReluDeriv(nodeValues)\n",
    "        elif function.lower() == \"identity\": return 1\n",
    "\n",
    "        raise ValueError('''Specified activation function is not supported\n",
    "        Supported functions: identity, sigmoid, relu, leaky relu''')\n",
    "\n",
    "\n",
    "    def sigmoid(self, rawValues):\n",
    "        return np.reciprocal(1 + np.exp(-rawValues))\n",
    "    \n",
    "    def sigmoidDeriv(self, nodeValues):\n",
    "        return nodeValues - np.power(nodeValues, 2)\n",
    "\n",
    "    def relu(self, rawValues):\n",
    "        rawValues[rawValues < 0] = 0\n",
    "        return rawValues\n",
    "    \n",
    "    def reluDeriv(self, nodeValues):\n",
    "        nodeValues[nodeValues > 0] = 1\n",
    "        return nodeValues\n",
    "\n",
    "    def leakyRelu(self, rawValues):\n",
    "        rawValues[rawValues < 0] *= 0.01\n",
    "        return rawValues\n",
    "    \n",
    "    def leakyReluDeriv(self, nodeValues):\n",
    "        nodeValues[nodeValues >= 0] = 1\n",
    "        nodeValues[nodeValues < 0] = 0.01\n",
    "        return nodeValues\n",
    "\n",
    "\n",
    "    def getParams(self):\n",
    "        return self.params\n",
    "\n",
    "    def setParams(self, newParams):\n",
    "        assert len(newParams) == len(self.params)\n",
    "        for i, k in zip(self.params, newParams):\n",
    "            assert i.shape == k.shape\n",
    "        \n",
    "        self.params = newParams"
   ]
  },
  {
   "cell_type": "code",
   "execution_count": 33,
   "id": "6b270600",
   "metadata": {},
   "outputs": [],
   "source": [
    "model = Model([784, 64, 32, 10], [\"relu\", \"relu\", \"sigmoid\"])"
   ]
  },
  {
   "cell_type": "code",
   "execution_count": 20,
   "id": "081ed82f",
   "metadata": {
    "scrolled": true
   },
   "outputs": [
    {
     "name": "stdout",
     "output_type": "stream",
     "text": [
      "Predicted 0\n",
      "Actual: 1\n"
     ]
    },
    {
     "data": {
      "text/plain": [
       "array([1.00000000e+000, 1.00000000e+000, 3.33327156e-127, 4.69111708e-004,\n",
       "       1.00000000e+000, 1.00000000e+000, 1.00000000e+000, 2.41092665e-014,\n",
       "       1.36687312e-055, 1.00000000e+000])"
      ]
     },
     "execution_count": 20,
     "metadata": {},
     "output_type": "execute_result"
    }
   ],
   "source": [
    "i = random.choice(range(60000))\n",
    "\n",
    "out = model.run(flatTrainImgs[i])[-1]\n",
    "\n",
    "print(\"Predicted\", np.where(np.isclose(out, np.max(out)))[0][0])\n",
    "print(\"Actual:\", trainLabels[i])\n",
    "out"
   ]
  },
  {
   "cell_type": "code",
   "execution_count": 34,
   "id": "47ac35c1",
   "metadata": {},
   "outputs": [
    {
     "name": "stdout",
     "output_type": "stream",
     "text": [
      "[ 2.98736299e-13  2.97477071e-13  2.50776973e-13  4.05841206e-14\n",
      " -1.33378231e-12 -1.24765727e-12 -9.11261014e-13  7.74661162e-13\n",
      "  1.37997689e-12 -7.76042115e-13  5.91495442e-13 -6.97219368e-14\n",
      " -1.48793044e-13 -4.44308156e-15  4.92387596e-13  3.06822618e-13\n",
      " -3.70801154e-13 -1.16377808e-13 -3.15474294e-14 -1.21233432e-12\n",
      " -1.22905131e-12 -9.06229265e-13  7.75324762e-13 -2.45054922e-13\n",
      " -7.24515831e-13 -3.51455412e-13 -2.00843185e-13 -9.00846922e-13\n",
      "  5.25983435e-13  1.69179680e-13 -1.22117215e-13 -7.32782217e-13]\n"
     ]
    },
    {
     "ename": "ValueError",
     "evalue": "operands could not be broadcast together with shapes (64,32) (1,10) ",
     "output_type": "error",
     "traceback": [
      "\u001b[1;31m---------------------------------------------------------------------------\u001b[0m",
      "\u001b[1;31mValueError\u001b[0m                                Traceback (most recent call last)",
      "\u001b[1;32mc:\\Users\\XT\\Documents\\MNIST\\I try ML or something.ipynb Cell 9\u001b[0m in \u001b[0;36m<cell line: 1>\u001b[1;34m()\u001b[0m\n\u001b[1;32m----> <a href='vscode-notebook-cell:/c%3A/Users/XT/Documents/MNIST/I%20try%20ML%20or%20something.ipynb#X14sZmlsZQ%3D%3D?line=0'>1</a>\u001b[0m model\u001b[39m.\u001b[39;49mtrain(flatTrainImgs, trainLabels, \u001b[39m1000\u001b[39;49m, \u001b[39m1\u001b[39;49m)\n",
      "\u001b[1;32mc:\\Users\\XT\\Documents\\MNIST\\I try ML or something.ipynb Cell 9\u001b[0m in \u001b[0;36mModel.train\u001b[1;34m(self, inData, labelData, sampSize, epochs, stepSize, printCost)\u001b[0m\n\u001b[0;32m     <a href='vscode-notebook-cell:/c%3A/Users/XT/Documents/MNIST/I%20try%20ML%20or%20something.ipynb#X14sZmlsZQ%3D%3D?line=78'>79</a>\u001b[0m \u001b[39mfor\u001b[39;00m epoch \u001b[39min\u001b[39;00m \u001b[39mrange\u001b[39m(epochs):\n\u001b[0;32m     <a href='vscode-notebook-cell:/c%3A/Users/XT/Documents/MNIST/I%20try%20ML%20or%20something.ipynb#X14sZmlsZQ%3D%3D?line=79'>80</a>\u001b[0m     \u001b[39mfor\u001b[39;00m i \u001b[39min\u001b[39;00m random\u001b[39m.\u001b[39msample(\u001b[39mrange\u001b[39m(\u001b[39mlen\u001b[39m(labelData)), sampSize):\n\u001b[1;32m---> <a href='vscode-notebook-cell:/c%3A/Users/XT/Documents/MNIST/I%20try%20ML%20or%20something.ipynb#X14sZmlsZQ%3D%3D?line=80'>81</a>\u001b[0m         gradient, cost \u001b[39m=\u001b[39m \u001b[39mself\u001b[39;49m\u001b[39m.\u001b[39;49mgradient(inData[i], labelData[i])\n\u001b[0;32m     <a href='vscode-notebook-cell:/c%3A/Users/XT/Documents/MNIST/I%20try%20ML%20or%20something.ipynb#X14sZmlsZQ%3D%3D?line=82'>83</a>\u001b[0m         \u001b[39m# Adjust parameters\u001b[39;00m\n\u001b[0;32m     <a href='vscode-notebook-cell:/c%3A/Users/XT/Documents/MNIST/I%20try%20ML%20or%20something.ipynb#X14sZmlsZQ%3D%3D?line=83'>84</a>\u001b[0m         \u001b[39mself\u001b[39m\u001b[39m.\u001b[39madjustParams(gradient, stepSize)\n",
      "\u001b[1;32mc:\\Users\\XT\\Documents\\MNIST\\I try ML or something.ipynb Cell 9\u001b[0m in \u001b[0;36mModel.gradient\u001b[1;34m(self, inArray, label)\u001b[0m\n\u001b[0;32m     <a href='vscode-notebook-cell:/c%3A/Users/XT/Documents/MNIST/I%20try%20ML%20or%20something.ipynb#X14sZmlsZQ%3D%3D?line=50'>51</a>\u001b[0m weights \u001b[39m=\u001b[39m \u001b[39mself\u001b[39m\u001b[39m.\u001b[39mparams[i][:\u001b[39m-\u001b[39m\u001b[39m1\u001b[39m]\n\u001b[0;32m     <a href='vscode-notebook-cell:/c%3A/Users/XT/Documents/MNIST/I%20try%20ML%20or%20something.ipynb#X14sZmlsZQ%3D%3D?line=52'>53</a>\u001b[0m activationDerivs \u001b[39m=\u001b[39m \u001b[39mself\u001b[39m\u001b[39m.\u001b[39mactivationDeriv(prevLayer, \u001b[39mself\u001b[39m\u001b[39m.\u001b[39mactivationFuncs[i])\n\u001b[1;32m---> <a href='vscode-notebook-cell:/c%3A/Users/XT/Documents/MNIST/I%20try%20ML%20or%20something.ipynb#X14sZmlsZQ%3D%3D?line=54'>55</a>\u001b[0m nodeDerivs \u001b[39m=\u001b[39m np\u001b[39m.\u001b[39msum(weights \u001b[39m*\u001b[39;49m activationDerivs[\u001b[39mNone\u001b[39;49;00m] \u001b[39m*\u001b[39;49m nodeGrad[i][\u001b[39mNone\u001b[39;49;00m], axis\u001b[39m=\u001b[39m\u001b[39m1\u001b[39m)\n\u001b[0;32m     <a href='vscode-notebook-cell:/c%3A/Users/XT/Documents/MNIST/I%20try%20ML%20or%20something.ipynb#X14sZmlsZQ%3D%3D?line=55'>56</a>\u001b[0m \u001b[39mprint\u001b[39m(nodeDerivs)\n\u001b[0;32m     <a href='vscode-notebook-cell:/c%3A/Users/XT/Documents/MNIST/I%20try%20ML%20or%20something.ipynb#X14sZmlsZQ%3D%3D?line=57'>58</a>\u001b[0m nodeGrad\u001b[39m.\u001b[39mappend(nodeDerivs)\n",
      "\u001b[1;31mValueError\u001b[0m: operands could not be broadcast together with shapes (64,32) (1,10) "
     ]
    }
   ],
   "source": [
    "model.train(flatTrainImgs, trainLabels, 1000, 1)"
   ]
  },
  {
   "cell_type": "code",
   "execution_count": 45,
   "id": "77ebf5f5",
   "metadata": {},
   "outputs": [
    {
     "data": {
      "text/plain": [
       "array([[0., 0., 0., ..., 0., 0., 0.],\n",
       "       [0., 0., 0., ..., 0., 0., 0.],\n",
       "       [0., 0., 0., ..., 0., 0., 0.],\n",
       "       [0., 0., 0., ..., 0., 0., 0.],\n",
       "       [0., 0., 0., ..., 0., 0., 0.]])"
      ]
     },
     "execution_count": 45,
     "metadata": {},
     "output_type": "execute_result"
    }
   ],
   "source": [
    "flatTestImgs[random.sample(range(len(testLabels)), 5)]"
   ]
  }
 ],
 "metadata": {
  "kernelspec": {
   "display_name": "Python 3.9.12 ('tf')",
   "language": "python",
   "name": "python3"
  },
  "language_info": {
   "codemirror_mode": {
    "name": "ipython",
    "version": 3
   },
   "file_extension": ".py",
   "mimetype": "text/x-python",
   "name": "python",
   "nbconvert_exporter": "python",
   "pygments_lexer": "ipython3",
   "version": "3.9.12"
  },
  "vscode": {
   "interpreter": {
    "hash": "61dfe290d5af39f02c5e82bb611038368a9534ec982fd1ef0461bb6d171d79e6"
   }
  }
 },
 "nbformat": 4,
 "nbformat_minor": 5
}
